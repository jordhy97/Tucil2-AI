{
 "cells": [
  {
   "cell_type": "markdown",
   "metadata": {},
   "source": [
    "# Load Dataset"
   ]
  },
  {
   "cell_type": "code",
   "execution_count": 1,
   "metadata": {
    "collapsed": true
   },
   "outputs": [],
   "source": [
    "from sklearn import datasets\n",
    "import pandas as pd\n",
    "\n",
    "iris = datasets.load_iris()\n",
    "X = iris.data\n",
    "y = iris.target\n",
    "tennis = pd.read_csv('tennis.csv')"
   ]
  },
  {
   "cell_type": "markdown",
   "metadata": {},
   "source": [
    "# Full-training"
   ]
  },
  {
   "cell_type": "code",
   "execution_count": 2,
   "metadata": {
    "collapsed": true
   },
   "outputs": [],
   "source": [
    "from sklearn import tree\n",
    "from sklearn.neural_network import MLPClassifier\n",
    "\n",
    "clft = tree.DecisionTreeClassifier()\n",
    "clft = clft.fit(X, y)\n",
    "\n",
    "clfm = MLPClassifier(hidden_layer_sizes=(4), solver='sgd', learning_rate_init=0.01, max_iter=500)\n",
    "clfm = clfm.fit(X, y)"
   ]
  },
  {
   "cell_type": "markdown",
   "metadata": {},
   "source": [
    "## Modelling Tree"
   ]
  },
  {
   "cell_type": "code",
   "execution_count": 3,
   "metadata": {},
   "outputs": [
    {
     "data": {
      "text/plain": [
       "'iris.pdf'"
      ]
     },
     "execution_count": 3,
     "metadata": {},
     "output_type": "execute_result"
    }
   ],
   "source": [
    "import graphviz \n",
    "dot_data = tree.export_graphviz(clft, out_file=None)\n",
    "graph = graphviz.Source(dot_data) \n",
    "graph.render(\"iris\")"
   ]
  },
  {
   "cell_type": "markdown",
   "metadata": {},
   "source": [
    "## Neural Network Model Coefficients"
   ]
  },
  {
   "cell_type": "code",
   "execution_count": 4,
   "metadata": {},
   "outputs": [
    {
     "name": "stdout",
     "output_type": "stream",
     "text": [
      "Weight Matrices\n",
      "[array([[-0.60902063, -0.16678344,  0.46529067, -0.10693127],\n",
      "       [ 0.48799982, -0.52505867, -0.60723287, -0.72691832],\n",
      "       [-0.60528676,  0.12950072, -0.55315414, -0.67714383],\n",
      "       [ 0.68607149,  0.49274619, -0.74929171,  0.14033142]]), array([[ 0.45169196, -0.78662004, -0.66960528],\n",
      "       [ 0.16353743,  0.00786089,  0.14697802],\n",
      "       [ 0.86015538,  0.54995569,  0.61776891],\n",
      "       [-0.13527326, -0.11040327, -0.12299649]])]\n",
      "Bias Vectors\n",
      "[array([ 0.06114681, -0.32870159, -0.26342306, -0.54255474]), array([-0.56568683, -0.2796037 , -0.87545116])]\n"
     ]
    }
   ],
   "source": [
    "print 'Weight Matrices'\n",
    "print clfm.coefs_\n",
    "print 'Bias Vectors'\n",
    "print clfm.intercepts_"
   ]
  },
  {
   "cell_type": "markdown",
   "metadata": {},
   "source": [
    "# Split-training"
   ]
  },
  {
   "cell_type": "code",
   "execution_count": 5,
   "metadata": {},
   "outputs": [
    {
     "name": "stdout",
     "output_type": "stream",
     "text": [
      "Decision Tree\n",
      "Acc: 1.0\n",
      "[[3 0 0]\n",
      " [0 8 0]\n",
      " [0 0 4]]\n",
      "Neural Network\n",
      "Acc: 1.0\n",
      "[[3 0 0]\n",
      " [0 8 0]\n",
      " [0 0 4]]\n"
     ]
    }
   ],
   "source": [
    "from sklearn.model_selection import train_test_split\n",
    "from sklearn.metrics import confusion_matrix\n",
    "\n",
    "X_train, X_test, y_train, y_test = train_test_split(X, y, test_size=0.1)\n",
    "print \"Decision Tree\"\n",
    "clft = clft.fit(X_train, y_train)\n",
    "print \"Acc:\", clft.score(X_test, y_test)\n",
    "y_pred = clft.predict(X_test)\n",
    "print confusion_matrix(y_test, y_pred)\n",
    "print \"Neural Network\"\n",
    "clfm = clfm.fit(X_train, y_train)\n",
    "print \"Acc:\", clfm.score(X_test, y_test)\n",
    "y_pred = clfm.predict(X_test)\n",
    "print confusion_matrix(y_test, y_pred)"
   ]
  },
  {
   "cell_type": "markdown",
   "metadata": {},
   "source": [
    "# K-fold Cross Validation"
   ]
  },
  {
   "cell_type": "code",
   "execution_count": 6,
   "metadata": {},
   "outputs": [
    {
     "name": "stdout",
     "output_type": "stream",
     "text": [
      "Decision Tree: 0.96\n"
     ]
    },
    {
     "name": "stderr",
     "output_type": "stream",
     "text": [
      "/home/joshua/miniconda2/lib/python2.7/site-packages/sklearn/neural_network/multilayer_perceptron.py:563: ConvergenceWarning: Stochastic Optimizer: Maximum iterations reached and the optimization hasn't converged yet.\n",
      "  % (), ConvergenceWarning)\n"
     ]
    },
    {
     "name": "stdout",
     "output_type": "stream",
     "text": [
      "Neural Network: 0.626666666667\n"
     ]
    }
   ],
   "source": [
    "from sklearn.model_selection import cross_val_score\n",
    "import numpy as np\n",
    "\n",
    "scores = cross_val_score(clft, X, y, cv=10)\n",
    "print \"Decision Tree:\", np.mean(scores)\n",
    "scores = cross_val_score(clfm, X, y, cv=10)\n",
    "print \"Neural Network:\", np.mean(scores)"
   ]
  },
  {
   "cell_type": "markdown",
   "metadata": {},
   "source": [
    "# Export Import"
   ]
  },
  {
   "cell_type": "code",
   "execution_count": 7,
   "metadata": {
    "collapsed": true
   },
   "outputs": [],
   "source": [
    "from sklearn.externals import joblib\n",
    "joblib.dump(clft, 'clft.pkl')\n",
    "joblib.dump(clfm, 'clfm.pkl')\n",
    "\n",
    "clft2 = joblib.load('clft.pkl')\n",
    "clfm2 = joblib.load('clfm.pkl')"
   ]
  },
  {
   "cell_type": "markdown",
   "metadata": {},
   "source": [
    "# New Instance"
   ]
  },
  {
   "cell_type": "code",
   "execution_count": 8,
   "metadata": {},
   "outputs": [
    {
     "name": "stdout",
     "output_type": "stream",
     "text": [
      "SepalLength: 5\n",
      "SepalWidth: 3\n",
      "PetalLength: 2\n",
      "PetalWidth: 0.3\n"
     ]
    }
   ],
   "source": [
    "instc = []\n",
    "sl = input(\"SepalLength: \")\n",
    "instc.append(sl)\n",
    "sw = input(\"SepalWidth: \")\n",
    "instc.append(sw)\n",
    "pl = input(\"PetalLength: \")\n",
    "instc.append(pl)\n",
    "pw = input(\"PetalWidth: \")\n",
    "instc.append(pw)"
   ]
  },
  {
   "cell_type": "markdown",
   "metadata": {},
   "source": [
    "# Predict Class"
   ]
  },
  {
   "cell_type": "code",
   "execution_count": 9,
   "metadata": {},
   "outputs": [
    {
     "name": "stdout",
     "output_type": "stream",
     "text": [
      "DecisionTree:\n",
      "Iris-setosa\n",
      "MultilayerNeuralNet:\n",
      "Iris-setosa\n"
     ]
    }
   ],
   "source": [
    "res = [\"Iris-setosa\",\"Iris-versicolor\",\"Iris-virginica\"]\n",
    "\n",
    "print \"DecisionTree:\"\n",
    "rest = clft2.predict([instc])[0]\n",
    "print res[rest]\n",
    "print \"MultilayerNeuralNet:\"\n",
    "resm = clfm2.predict([instc])[0]\n",
    "print res[resm]"
   ]
  },
  {
   "cell_type": "markdown",
   "metadata": {},
   "source": [
    "# Draw Correlation"
   ]
  },
  {
   "cell_type": "code",
   "execution_count": 10,
   "metadata": {
    "scrolled": true
   },
   "outputs": [
    {
     "data": {
      "image/png": "[encoded data removed]",
      "text/plain": [
       "<matplotlib.figure.Figure at 0x7f5941b9b750>"
      ]
     },
     "metadata": {},
     "output_type": "display_data"
    }
   ],
   "source": [
    "import seaborn as sns\n",
    "import matplotlib.pyplot as plt\n",
    "sns.set(style=\"whitegrid\", palette=\"muted\")\n",
    "iris = sns.load_dataset(\"iris\")\n",
    "iris = pd.melt(iris, \"species\", var_name=\"measurement\")\n",
    "sns.swarmplot(x=\"measurement\", y=\"value\", hue=\"species\", data=iris)\n",
    "plt.show()"
   ]
  },
  {
   "cell_type": "code",
   "execution_count": null,
   "metadata": {
    "collapsed": true
   },
   "outputs": [],
   "source": []
  }
 ],
 "metadata": {
  "kernelspec": {
   "display_name": "Python 3",
   "language": "python",
   "name": "python3"
  },
  "language_info": {
   "codemirror_mode": {
    "name": "ipython",
    "version": 3
   },
   "file_extension": ".py",
   "mimetype": "text/x-python",
   "name": "python",
   "nbconvert_exporter": "python",
   "pygments_lexer": "ipython3",
   "version": "3.6.3"
  }
 },
 "nbformat": 4,
 "nbformat_minor": 2
}
